{
 "cells": [
  {
   "metadata": {},
   "cell_type": "markdown",
   "source": [
    "# Scenario & Introduction\n",
    "\n",
    "## Problem Statement\n",
    "Streaming platforms ingest hundreds of new titles every month, yet most arrive with only minimal metadata.\n",
    "Without reliable genre tags or similarity links, users struggle to discover relevant content, and providers miss out on engagement opportunities.\n",
    "\n",
    "## Business / Research Goal\n",
    "Our goal is to **automatically enrich newly ingested movies** by providing:\n",
    "\n",
    "1. **Primary genre predictions** derived solely from a plot summary.\n",
    "2. **Content-based recommendations** that surface semantically similar titles on day 0.\n",
    "\n",
    "\n",
    "### Concrete Research Questions\n",
    "\n",
    "| #   | Question |\n",
    "|-----|----------|\n",
    "| **RQ-1** | *How accurately can genres be inferred from plot texts, and which model performs best?* |\n",
    "| **RQ-2** | *Which text-representation strategy (e.g., TF-IDF, Word2Vec, Sentence-BERT) yields the best performance for the recommendation system?* |\n",
    "\n",
    "## Strategy & Methodology\n",
    "\n",
    "Our workflow is organised in **four notebooks**, each mapping to a specific project phase:\n",
    "\n",
    "| Phase / Notebook | Key actions |\n",
    "|------------------|-------------|\n",
    "| **DataExtraction & Preprocessing** | • Download TMDB metadata and Wikipedia plots<br>• Normalise titles, merge datasets, remove duplicates |\n",
    "| **DataExploration**  | • Inspect class balance, text length, language distribution<br>• Visualise token counts & top n-grams |\n",
    "| **GenreClassification** | • Train and compare models: Logistic Regression, SVM, Random Forest, LSTM, BERT |\n",
    "| **RecommenderSystem** | • Experiment with TF-IDF, Word2Vec, Sentence-BERT embeddings<br>• Retrieve neighbours via cosine similarity & HNSW |\n",
    "\n"
   ],
   "id": "81a795088bf00122"
  }
 ],
 "metadata": {
  "kernelspec": {
   "display_name": "Python 3",
   "language": "python",
   "name": "python3"
  },
  "language_info": {
   "codemirror_mode": {
    "name": "ipython",
    "version": 2
   },
   "file_extension": ".py",
   "mimetype": "text/x-python",
   "name": "python",
   "nbconvert_exporter": "python",
   "pygments_lexer": "ipython2",
   "version": "2.7.6"
  }
 },
 "nbformat": 4,
 "nbformat_minor": 5
}
